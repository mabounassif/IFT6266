{
 "cells": [
  {
   "cell_type": "code",
   "execution_count": 1,
   "metadata": {},
   "outputs": [],
   "source": [
    "from workspace.project.code.nnet import NNet\n",
    "\n",
    "import numpy as np"
   ]
  },
  {
   "cell_type": "code",
   "execution_count": 2,
   "metadata": {},
   "outputs": [],
   "source": [
    "rng = np.random.RandomState(23455)"
   ]
  },
  {
   "cell_type": "code",
   "execution_count": 3,
   "metadata": {},
   "outputs": [],
   "source": [
    ""
   ]
  },
  {
   "cell_type": "code",
   "execution_count": 3,
   "metadata": {
    "collapsed": false
   },
   "outputs": [
    {
     "name": "stdout",
     "output_type": "stream",
     "text": [
      "... building the nnet\n"
     ]
    },
    {
     "name": "stderr",
     "output_type": "stream",
     "text": [
      "/Users/mabounassif/Documents/IFT6266/workspace/project/code/conv_pool_layer.py:54: UserWarning: The `image_shape` keyword argument to `tensor.nnet.conv2d` is deprecated, it has been renamed to `input_shape`.\n  image_shape=input_shape\n"
     ]
    },
    {
     "ename": "NameError",
     "evalue": "name 'test_set_x' is not defined",
     "traceback": [
      "\u001b[0;31m---------------------------------------------------------------------------\u001b[0m",
      "\u001b[0;31mNameError\u001b[0m                                 Traceback (most recent call last)",
      "\u001b[0;32m<ipython-input-3-3bbc78cac187>\u001b[0m in \u001b[0;36m<module>\u001b[0;34m()\u001b[0m\n\u001b[1;32m     27\u001b[0m             \u001b[0mbatch_size\u001b[0m\u001b[0;34m=\u001b[0m\u001b[0;36m100\u001b[0m\u001b[0;34m,\u001b[0m\u001b[0;34m\u001b[0m\u001b[0m\n\u001b[1;32m     28\u001b[0m             \u001b[0mdata\u001b[0m\u001b[0;34m=\u001b[0m\u001b[0;32mNone\u001b[0m\u001b[0;34m,\u001b[0m\u001b[0;34m\u001b[0m\u001b[0m\n\u001b[0;32m---> 29\u001b[0;31m             nkerns_options=nkerns_options)\n\u001b[0m",
      "\u001b[0;32m/Users/mabounassif/Documents/IFT6266/workspace/project/code/nnet.py\u001b[0m in \u001b[0;36m__init__\u001b[0;34m(self, rng, batch_size, data, nkerns_options)\u001b[0m\n\u001b[1;32m     57\u001b[0m             \u001b[0mlayer3\u001b[0m\u001b[0;34m.\u001b[0m\u001b[0merrors\u001b[0m\u001b[0;34m(\u001b[0m\u001b[0my\u001b[0m\u001b[0;34m)\u001b[0m\u001b[0;34m,\u001b[0m\u001b[0;34m\u001b[0m\u001b[0m\n\u001b[1;32m     58\u001b[0m             givens={\n\u001b[0;32m---> 59\u001b[0;31m                 \u001b[0mx\u001b[0m\u001b[0;34m:\u001b[0m \u001b[0mtest_set_x\u001b[0m\u001b[0;34m[\u001b[0m\u001b[0mindex\u001b[0m \u001b[0;34m*\u001b[0m \u001b[0mbatch_size\u001b[0m\u001b[0;34m:\u001b[0m \u001b[0;34m(\u001b[0m\u001b[0mindex\u001b[0m \u001b[0;34m+\u001b[0m \u001b[0;36m1\u001b[0m\u001b[0;34m)\u001b[0m \u001b[0;34m*\u001b[0m \u001b[0mbatch_size\u001b[0m\u001b[0;34m]\u001b[0m\u001b[0;34m,\u001b[0m\u001b[0;34m\u001b[0m\u001b[0m\n\u001b[0m\u001b[1;32m     60\u001b[0m                 \u001b[0my\u001b[0m\u001b[0;34m:\u001b[0m \u001b[0mtest_set_y\u001b[0m\u001b[0;34m[\u001b[0m\u001b[0mindex\u001b[0m \u001b[0;34m*\u001b[0m \u001b[0mbatch_size\u001b[0m\u001b[0;34m:\u001b[0m \u001b[0;34m(\u001b[0m\u001b[0mindex\u001b[0m \u001b[0;34m+\u001b[0m \u001b[0;36m1\u001b[0m\u001b[0;34m)\u001b[0m \u001b[0;34m*\u001b[0m \u001b[0mbatch_size\u001b[0m\u001b[0;34m]\u001b[0m\u001b[0;34m\u001b[0m\u001b[0m\n\u001b[1;32m     61\u001b[0m             }\n",
      "\u001b[0;31mNameError\u001b[0m: name 'test_set_x' is not defined"
     ],
     "output_type": "error"
    }
   ],
   "source": [
    "nkerns_options = [\n",
    "    {\n",
    "        'type': 'convpool',\n",
    "        'input_shape': (3, 64, 64),\n",
    "        'filter_shape': (20, 3, 9, 9),\n",
    "        'poolsize': (2, 2)\n",
    "    },\n",
    "    {\n",
    "        'type': 'convpool',\n",
    "        'input_shape': (20, 9, 9),\n",
    "        'filter_shape': (50, 20, 3, 3),\n",
    "        'poolsize': (2, 2)\n",
    "    },\n",
    "    {\n",
    "        'type': 'hidden',\n",
    "        'n_in': 500 * 4 * 4,\n",
    "        'n_out': 500,\n",
    "    },\n",
    "    {\n",
    "        'type': 'regression',\n",
    "        'n_in': 500,\n",
    "        'n_out': 10\n",
    "    }\n",
    "]\n",
    "\n",
    "data = {\n",
    "\n",
    "}\n",
    "\n",
    "nnet = NNet(\n",
    "    rng=rng,\n",
    "    batch_size=100,\n",
    "    data=data,\n",
    "    nkerns_options=nkerns_options,\n",
    "    learning_rate=0.5\n",
    ")\n"
   ]
  },
  {
   "cell_type": "code",
   "execution_count": null,
   "metadata": {},
   "outputs": [],
   "source": [
    ""
   ]
  }
 ],
 "metadata": {
  "anaconda-cloud": {},
  "kernelspec": {
   "display_name": "Python [conda env:udem]",
   "language": "python",
   "name": "conda-env-udem-py"
  },
  "language_info": {
   "codemirror_mode": {
    "name": "ipython",
    "version": 3.0
   },
   "file_extension": ".py",
   "mimetype": "text/x-python",
   "name": "python",
   "nbconvert_exporter": "python",
   "pygments_lexer": "ipython3",
   "version": "3.5.2"
  }
 },
 "nbformat": 4,
 "nbformat_minor": 0
}